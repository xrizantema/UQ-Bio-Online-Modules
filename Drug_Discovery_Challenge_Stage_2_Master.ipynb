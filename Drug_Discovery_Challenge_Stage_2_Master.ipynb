{
  "nbformat": 4,
  "nbformat_minor": 0,
  "metadata": {
    "colab": {
      "provenance": [],
      "include_colab_link": true
    },
    "kernelspec": {
      "name": "python3",
      "display_name": "Python 3"
    },
    "language_info": {
      "name": "python"
    }
  },
  "cells": [
    {
      "cell_type": "markdown",
      "metadata": {
        "id": "view-in-github",
        "colab_type": "text"
      },
      "source": [
        "<a href=\"https://colab.research.google.com/github/xrizantema/UQ-Bio-Online-Modules/blob/main/Drug_Discovery_Challenge_Stage_2_Master.ipynb\" target=\"_parent\"><img src=\"https://colab.research.google.com/assets/colab-badge.svg\" alt=\"Open In Colab\"/></a>"
      ]
    },
    {
      "cell_type": "markdown",
      "source": [
        "<img src= https://github.com/MunskyGroup/UQBio2023/raw/main/notebook_images/UQBio_Challenge/UQ_Bio_Challenge_0.jpg alt=\"drawing\" width=\"900\"/>\n",
        "\n",
        "\n",
        "```\n",
        "Instructor: Brian Munsky and Ania Baetica\n",
        "Contact Info: munsky@colostate.edu\n",
        "\n",
        "Copyright (c) 2023 Dr. Brian Munsky. \n",
        "Dr. Luis Aguilera, Will Raymond\n",
        "Colorado State University.\n",
        "Licensed under BSD-3-Clause license.\n",
        "```"
      ],
      "metadata": {
        "id": "3yd_tLiD3PCR"
      }
    },
    {
      "cell_type": "markdown",
      "source": [
        "<img src= https://github.com/MunskyGroup/UQBio2023/raw/main/notebook_images/UQBio_Challenge/UQ_Bio_Challenge_2.jpg alt=\"drawing\" width=\"900\"/>"
      ],
      "metadata": {
        "id": "PzLJ2JUF3teM"
      }
    },
    {
      "cell_type": "markdown",
      "source": [
        "<img src=https://github.com/MunskyGroup/UQBio2023/raw/main/notebook_images/UQBio_Challenge/UQ_Bio_ChallengeStage2Slide.jpg alt=\"https://github.com/MunskyGroup/UQBio2023/raw/main/notebook_images/UQBio_Challenge/UQ_Bio_ChallengeStage2Slide.jpg\" width=\"900\"/>"
      ],
      "metadata": {
        "id": "EbkxYoVk3tge"
      }
    },
    {
      "cell_type": "markdown",
      "source": [
        "Import the libraries you will need for the analyses."
      ],
      "metadata": {
        "id": "KgVLoWPWTG0D"
      }
    },
    {
      "cell_type": "code",
      "source": [
        "# import all needed libraries.\n",
        "# import all needed libraries.\n",
        "import numpy as np \n",
        "import pandas as pd\n",
        "import scipy as sp \n",
        "import sympy as sym\n",
        "import matplotlib.pyplot as plt\n",
        "import seaborn as sns\n",
        "from typing import Union # for code annotation\n",
        "import random\n",
        "\n",
        "sns.set_theme(style=\"whitegrid\", \n",
        "              font='Liberation Mono')\n",
        "sns.set_context(\"notebook\")\n",
        "\n",
        "from matplotlib.patheffects import (\n",
        "      PathPatchEffect, \n",
        "      SimpleLineShadow, \n",
        "      Normal,      \n",
        "    )\n",
        "from matplotlib.patches import Shadow\n",
        "import csv\n",
        "import random                        # Library to generate random numbers\n",
        "import skimage                       # Library for image manipulation\n",
        "import numpy as np                   # Library for array manipulation\n",
        "import urllib.request                # Library to download data\n",
        "import matplotlib.pyplot as plt      # Library used for plotting\n",
        "from skimage import io               # Module from skimage\n",
        "from skimage.io import imread        # Module from skimage to read images as numpy arrays\n",
        "from skimage.filters import gaussian # Module working with a gaussian filter\n",
        "import pathlib                              # Library to work with file paths\n",
        "import os\n",
        "from skimage import measure\n",
        "import pandas as pd\n",
        "import cv2\n",
        "from scipy.stats import ttest_ind\n",
        "from scipy.stats import chi2_contingency\n",
        "from scipy.stats import ttest_ind\n",
        "from matplotlib.pyplot import cm\n",
        "import warnings\n",
        "warnings.filterwarnings(\"ignore\")"
      ],
      "metadata": {
        "id": "HSyf3VOgTDpu"
      },
      "execution_count": null,
      "outputs": []
    },
    {
      "cell_type": "code",
      "source": [
        "from google.colab import drive\n",
        "drive.mount('/content/drive/')"
      ],
      "metadata": {
        "colab": {
          "base_uri": "https://localhost:8080/",
          "height": 329
        },
        "id": "FBcZbvnkRrSV",
        "outputId": "cb96d6a7-b9ae-4a81-8c51-19d870889ca4"
      },
      "execution_count": null,
      "outputs": [
        {
          "output_type": "error",
          "ename": "KeyboardInterrupt",
          "evalue": "ignored",
          "traceback": [
            "\u001b[0;31m---------------------------------------------------------------------------\u001b[0m",
            "\u001b[0;31mKeyboardInterrupt\u001b[0m                         Traceback (most recent call last)",
            "\u001b[0;32m<ipython-input-2-91874b305a32>\u001b[0m in \u001b[0;36m<cell line: 2>\u001b[0;34m()\u001b[0m\n\u001b[1;32m      1\u001b[0m \u001b[0;32mfrom\u001b[0m \u001b[0mgoogle\u001b[0m\u001b[0;34m.\u001b[0m\u001b[0mcolab\u001b[0m \u001b[0;32mimport\u001b[0m \u001b[0mdrive\u001b[0m\u001b[0;34m\u001b[0m\u001b[0;34m\u001b[0m\u001b[0m\n\u001b[0;32m----> 2\u001b[0;31m \u001b[0mdrive\u001b[0m\u001b[0;34m.\u001b[0m\u001b[0mmount\u001b[0m\u001b[0;34m(\u001b[0m\u001b[0;34m'/content/drive/'\u001b[0m\u001b[0;34m)\u001b[0m\u001b[0;34m\u001b[0m\u001b[0;34m\u001b[0m\u001b[0m\n\u001b[0m",
            "\u001b[0;32m/usr/local/lib/python3.10/dist-packages/google/colab/drive.py\u001b[0m in \u001b[0;36mmount\u001b[0;34m(mountpoint, force_remount, timeout_ms, readonly)\u001b[0m\n\u001b[1;32m    101\u001b[0m \u001b[0;32mdef\u001b[0m \u001b[0mmount\u001b[0m\u001b[0;34m(\u001b[0m\u001b[0mmountpoint\u001b[0m\u001b[0;34m,\u001b[0m \u001b[0mforce_remount\u001b[0m\u001b[0;34m=\u001b[0m\u001b[0;32mFalse\u001b[0m\u001b[0;34m,\u001b[0m \u001b[0mtimeout_ms\u001b[0m\u001b[0;34m=\u001b[0m\u001b[0;36m120000\u001b[0m\u001b[0;34m,\u001b[0m \u001b[0mreadonly\u001b[0m\u001b[0;34m=\u001b[0m\u001b[0;32mFalse\u001b[0m\u001b[0;34m)\u001b[0m\u001b[0;34m:\u001b[0m\u001b[0;34m\u001b[0m\u001b[0;34m\u001b[0m\u001b[0m\n\u001b[1;32m    102\u001b[0m   \u001b[0;34m\"\"\"Mount your Google Drive at the specified mountpoint path.\"\"\"\u001b[0m\u001b[0;34m\u001b[0m\u001b[0;34m\u001b[0m\u001b[0m\n\u001b[0;32m--> 103\u001b[0;31m   return _mount(\n\u001b[0m\u001b[1;32m    104\u001b[0m       \u001b[0mmountpoint\u001b[0m\u001b[0;34m,\u001b[0m\u001b[0;34m\u001b[0m\u001b[0;34m\u001b[0m\u001b[0m\n\u001b[1;32m    105\u001b[0m       \u001b[0mforce_remount\u001b[0m\u001b[0;34m=\u001b[0m\u001b[0mforce_remount\u001b[0m\u001b[0;34m,\u001b[0m\u001b[0;34m\u001b[0m\u001b[0;34m\u001b[0m\u001b[0m\n",
            "\u001b[0;32m/usr/local/lib/python3.10/dist-packages/google/colab/drive.py\u001b[0m in \u001b[0;36m_mount\u001b[0;34m(mountpoint, force_remount, timeout_ms, ephemeral, readonly)\u001b[0m\n\u001b[1;32m    130\u001b[0m   )\n\u001b[1;32m    131\u001b[0m   \u001b[0;32mif\u001b[0m \u001b[0mephemeral\u001b[0m\u001b[0;34m:\u001b[0m\u001b[0;34m\u001b[0m\u001b[0;34m\u001b[0m\u001b[0m\n\u001b[0;32m--> 132\u001b[0;31m     _message.blocking_request(\n\u001b[0m\u001b[1;32m    133\u001b[0m         \u001b[0;34m'request_auth'\u001b[0m\u001b[0;34m,\u001b[0m \u001b[0mrequest\u001b[0m\u001b[0;34m=\u001b[0m\u001b[0;34m{\u001b[0m\u001b[0;34m'authType'\u001b[0m\u001b[0;34m:\u001b[0m \u001b[0;34m'dfs_ephemeral'\u001b[0m\u001b[0;34m}\u001b[0m\u001b[0;34m,\u001b[0m \u001b[0mtimeout_sec\u001b[0m\u001b[0;34m=\u001b[0m\u001b[0;32mNone\u001b[0m\u001b[0;34m\u001b[0m\u001b[0;34m\u001b[0m\u001b[0m\n\u001b[1;32m    134\u001b[0m     )\n",
            "\u001b[0;32m/usr/local/lib/python3.10/dist-packages/google/colab/_message.py\u001b[0m in \u001b[0;36mblocking_request\u001b[0;34m(request_type, request, timeout_sec, parent)\u001b[0m\n\u001b[1;32m    174\u001b[0m       \u001b[0mrequest_type\u001b[0m\u001b[0;34m,\u001b[0m \u001b[0mrequest\u001b[0m\u001b[0;34m,\u001b[0m \u001b[0mparent\u001b[0m\u001b[0;34m=\u001b[0m\u001b[0mparent\u001b[0m\u001b[0;34m,\u001b[0m \u001b[0mexpect_reply\u001b[0m\u001b[0;34m=\u001b[0m\u001b[0;32mTrue\u001b[0m\u001b[0;34m\u001b[0m\u001b[0;34m\u001b[0m\u001b[0m\n\u001b[1;32m    175\u001b[0m   )\n\u001b[0;32m--> 176\u001b[0;31m   \u001b[0;32mreturn\u001b[0m \u001b[0mread_reply_from_input\u001b[0m\u001b[0;34m(\u001b[0m\u001b[0mrequest_id\u001b[0m\u001b[0;34m,\u001b[0m \u001b[0mtimeout_sec\u001b[0m\u001b[0;34m)\u001b[0m\u001b[0;34m\u001b[0m\u001b[0;34m\u001b[0m\u001b[0m\n\u001b[0m",
            "\u001b[0;32m/usr/local/lib/python3.10/dist-packages/google/colab/_message.py\u001b[0m in \u001b[0;36mread_reply_from_input\u001b[0;34m(message_id, timeout_sec)\u001b[0m\n\u001b[1;32m     94\u001b[0m     \u001b[0mreply\u001b[0m \u001b[0;34m=\u001b[0m \u001b[0m_read_next_input_message\u001b[0m\u001b[0;34m(\u001b[0m\u001b[0;34m)\u001b[0m\u001b[0;34m\u001b[0m\u001b[0;34m\u001b[0m\u001b[0m\n\u001b[1;32m     95\u001b[0m     \u001b[0;32mif\u001b[0m \u001b[0mreply\u001b[0m \u001b[0;34m==\u001b[0m \u001b[0m_NOT_READY\u001b[0m \u001b[0;32mor\u001b[0m \u001b[0;32mnot\u001b[0m \u001b[0misinstance\u001b[0m\u001b[0;34m(\u001b[0m\u001b[0mreply\u001b[0m\u001b[0;34m,\u001b[0m \u001b[0mdict\u001b[0m\u001b[0;34m)\u001b[0m\u001b[0;34m:\u001b[0m\u001b[0;34m\u001b[0m\u001b[0;34m\u001b[0m\u001b[0m\n\u001b[0;32m---> 96\u001b[0;31m       \u001b[0mtime\u001b[0m\u001b[0;34m.\u001b[0m\u001b[0msleep\u001b[0m\u001b[0;34m(\u001b[0m\u001b[0;36m0.025\u001b[0m\u001b[0;34m)\u001b[0m\u001b[0;34m\u001b[0m\u001b[0;34m\u001b[0m\u001b[0m\n\u001b[0m\u001b[1;32m     97\u001b[0m       \u001b[0;32mcontinue\u001b[0m\u001b[0;34m\u001b[0m\u001b[0;34m\u001b[0m\u001b[0m\n\u001b[1;32m     98\u001b[0m     if (\n",
            "\u001b[0;31mKeyboardInterrupt\u001b[0m: "
          ]
        }
      ]
    },
    {
      "cell_type": "code",
      "source": [
        "#@title  Download and open the CSV that contains the data \n",
        "# Create different objects for each of your different drug conditions.\n",
        "\n",
        "from google.colab import files\n",
        "os.getcwd()\n",
        "# Choose the csv files on your computer to upload it (download CSV files from Brian's dropbox)\n",
        "files.upload()\n",
        "# Brian's dropbox/processed CSV file link: https://www.dropbox.com/sh/0n26qozdhwvard5/AABoHzGvTJLbBuAuwF2clWMba?dl=0\n",
        "\n",
        "#Importing CSV data as different objects per drug:\n",
        "\n",
        "WT = pd.read_csv('./WT_img_process_data.csv')\n",
        "D1 = pd.read_csv('./Drug1_img_process_data.csv')\n",
        "#D2 = pd.read_csv('./Drug2_img_process_data.csv')\n",
        "#D3 = pd.read_csv('./Drug3_img_process_data.csv')\n",
        "#D4 = pd.read_csv('./Drug4_img_process_data.csv')\n",
        "D5 = pd.read_csv('./Drug5_img_process_data.csv')\n",
        "#D6 = pd.read_csv('./Drug6_img_process_data.csv')\n",
        "D7 = pd.read_csv('./Drug7_img_process_data.csv')\n",
        "#D8 = pd.read_csv('./Drug8_img_process_data.csv')\n"
      ],
      "metadata": {
        "id": "D8fhW-TQ4ksd",
        "collapsed": true,
        "colab": {
          "base_uri": "https://localhost:8080/",
          "height": 177
        },
        "outputId": "2911d3c9-65ef-4d99-fcd1-f0821289af96"
      },
      "execution_count": null,
      "outputs": [
        {
          "output_type": "display_data",
          "data": {
            "text/plain": [
              "<IPython.core.display.HTML object>"
            ],
            "text/html": [
              "\n",
              "     <input type=\"file\" id=\"files-3432d6a8-2f03-434f-91a3-faf573967b6f\" name=\"files[]\" multiple disabled\n",
              "        style=\"border:none\" />\n",
              "     <output id=\"result-3432d6a8-2f03-434f-91a3-faf573967b6f\">\n",
              "      Upload widget is only available when the cell has been executed in the\n",
              "      current browser session. Please rerun this cell to enable.\n",
              "      </output>\n",
              "      <script>// Copyright 2017 Google LLC\n",
              "//\n",
              "// Licensed under the Apache License, Version 2.0 (the \"License\");\n",
              "// you may not use this file except in compliance with the License.\n",
              "// You may obtain a copy of the License at\n",
              "//\n",
              "//      http://www.apache.org/licenses/LICENSE-2.0\n",
              "//\n",
              "// Unless required by applicable law or agreed to in writing, software\n",
              "// distributed under the License is distributed on an \"AS IS\" BASIS,\n",
              "// WITHOUT WARRANTIES OR CONDITIONS OF ANY KIND, either express or implied.\n",
              "// See the License for the specific language governing permissions and\n",
              "// limitations under the License.\n",
              "\n",
              "/**\n",
              " * @fileoverview Helpers for google.colab Python module.\n",
              " */\n",
              "(function(scope) {\n",
              "function span(text, styleAttributes = {}) {\n",
              "  const element = document.createElement('span');\n",
              "  element.textContent = text;\n",
              "  for (const key of Object.keys(styleAttributes)) {\n",
              "    element.style[key] = styleAttributes[key];\n",
              "  }\n",
              "  return element;\n",
              "}\n",
              "\n",
              "// Max number of bytes which will be uploaded at a time.\n",
              "const MAX_PAYLOAD_SIZE = 100 * 1024;\n",
              "\n",
              "function _uploadFiles(inputId, outputId) {\n",
              "  const steps = uploadFilesStep(inputId, outputId);\n",
              "  const outputElement = document.getElementById(outputId);\n",
              "  // Cache steps on the outputElement to make it available for the next call\n",
              "  // to uploadFilesContinue from Python.\n",
              "  outputElement.steps = steps;\n",
              "\n",
              "  return _uploadFilesContinue(outputId);\n",
              "}\n",
              "\n",
              "// This is roughly an async generator (not supported in the browser yet),\n",
              "// where there are multiple asynchronous steps and the Python side is going\n",
              "// to poll for completion of each step.\n",
              "// This uses a Promise to block the python side on completion of each step,\n",
              "// then passes the result of the previous step as the input to the next step.\n",
              "function _uploadFilesContinue(outputId) {\n",
              "  const outputElement = document.getElementById(outputId);\n",
              "  const steps = outputElement.steps;\n",
              "\n",
              "  const next = steps.next(outputElement.lastPromiseValue);\n",
              "  return Promise.resolve(next.value.promise).then((value) => {\n",
              "    // Cache the last promise value to make it available to the next\n",
              "    // step of the generator.\n",
              "    outputElement.lastPromiseValue = value;\n",
              "    return next.value.response;\n",
              "  });\n",
              "}\n",
              "\n",
              "/**\n",
              " * Generator function which is called between each async step of the upload\n",
              " * process.\n",
              " * @param {string} inputId Element ID of the input file picker element.\n",
              " * @param {string} outputId Element ID of the output display.\n",
              " * @return {!Iterable<!Object>} Iterable of next steps.\n",
              " */\n",
              "function* uploadFilesStep(inputId, outputId) {\n",
              "  const inputElement = document.getElementById(inputId);\n",
              "  inputElement.disabled = false;\n",
              "\n",
              "  const outputElement = document.getElementById(outputId);\n",
              "  outputElement.innerHTML = '';\n",
              "\n",
              "  const pickedPromise = new Promise((resolve) => {\n",
              "    inputElement.addEventListener('change', (e) => {\n",
              "      resolve(e.target.files);\n",
              "    });\n",
              "  });\n",
              "\n",
              "  const cancel = document.createElement('button');\n",
              "  inputElement.parentElement.appendChild(cancel);\n",
              "  cancel.textContent = 'Cancel upload';\n",
              "  const cancelPromise = new Promise((resolve) => {\n",
              "    cancel.onclick = () => {\n",
              "      resolve(null);\n",
              "    };\n",
              "  });\n",
              "\n",
              "  // Wait for the user to pick the files.\n",
              "  const files = yield {\n",
              "    promise: Promise.race([pickedPromise, cancelPromise]),\n",
              "    response: {\n",
              "      action: 'starting',\n",
              "    }\n",
              "  };\n",
              "\n",
              "  cancel.remove();\n",
              "\n",
              "  // Disable the input element since further picks are not allowed.\n",
              "  inputElement.disabled = true;\n",
              "\n",
              "  if (!files) {\n",
              "    return {\n",
              "      response: {\n",
              "        action: 'complete',\n",
              "      }\n",
              "    };\n",
              "  }\n",
              "\n",
              "  for (const file of files) {\n",
              "    const li = document.createElement('li');\n",
              "    li.append(span(file.name, {fontWeight: 'bold'}));\n",
              "    li.append(span(\n",
              "        `(${file.type || 'n/a'}) - ${file.size} bytes, ` +\n",
              "        `last modified: ${\n",
              "            file.lastModifiedDate ? file.lastModifiedDate.toLocaleDateString() :\n",
              "                                    'n/a'} - `));\n",
              "    const percent = span('0% done');\n",
              "    li.appendChild(percent);\n",
              "\n",
              "    outputElement.appendChild(li);\n",
              "\n",
              "    const fileDataPromise = new Promise((resolve) => {\n",
              "      const reader = new FileReader();\n",
              "      reader.onload = (e) => {\n",
              "        resolve(e.target.result);\n",
              "      };\n",
              "      reader.readAsArrayBuffer(file);\n",
              "    });\n",
              "    // Wait for the data to be ready.\n",
              "    let fileData = yield {\n",
              "      promise: fileDataPromise,\n",
              "      response: {\n",
              "        action: 'continue',\n",
              "      }\n",
              "    };\n",
              "\n",
              "    // Use a chunked sending to avoid message size limits. See b/62115660.\n",
              "    let position = 0;\n",
              "    do {\n",
              "      const length = Math.min(fileData.byteLength - position, MAX_PAYLOAD_SIZE);\n",
              "      const chunk = new Uint8Array(fileData, position, length);\n",
              "      position += length;\n",
              "\n",
              "      const base64 = btoa(String.fromCharCode.apply(null, chunk));\n",
              "      yield {\n",
              "        response: {\n",
              "          action: 'append',\n",
              "          file: file.name,\n",
              "          data: base64,\n",
              "        },\n",
              "      };\n",
              "\n",
              "      let percentDone = fileData.byteLength === 0 ?\n",
              "          100 :\n",
              "          Math.round((position / fileData.byteLength) * 100);\n",
              "      percent.textContent = `${percentDone}% done`;\n",
              "\n",
              "    } while (position < fileData.byteLength);\n",
              "  }\n",
              "\n",
              "  // All done.\n",
              "  yield {\n",
              "    response: {\n",
              "      action: 'complete',\n",
              "    }\n",
              "  };\n",
              "}\n",
              "\n",
              "scope.google = scope.google || {};\n",
              "scope.google.colab = scope.google.colab || {};\n",
              "scope.google.colab._files = {\n",
              "  _uploadFiles,\n",
              "  _uploadFilesContinue,\n",
              "};\n",
              "})(self);\n",
              "</script> "
            ]
          },
          "metadata": {}
        },
        {
          "output_type": "stream",
          "name": "stdout",
          "text": [
            "Saving Drug1_img_process_data.csv to Drug1_img_process_data.csv\n",
            "Saving Drug5_img_process_data.csv to Drug5_img_process_data.csv\n",
            "Saving Drug7_img_process_data.csv to Drug7_img_process_data.csv\n",
            "Saving WT_img_process_data.csv to WT_img_process_data.csv\n"
          ]
        }
      ]
    },
    {
      "cell_type": "code",
      "source": [
        "#@title  Make various plots to visualize your data.  \n",
        "# Try to present different features of your data in different ways to \n",
        "# help the user to understand the similarities and heterogeneities encountered \n",
        "# in your data sets.\n",
        "\n",
        "df_data=WT\n",
        "df_data=df_data.rename(columns={\"Unnamed: 0\":\"Cell Number\"})\n",
        "df_data = df_data[df_data['Cell_Id'].str.contains('rep1_FOV1_')]\n",
        "max_cell_number=np.max(df_data[\"Cell Number\"])\n",
        "df_cell_number=df_data[\"Cell Number\"].astype(str)\n",
        "color = iter(cm.rainbow(np.linspace(0, 1, 10)))\n",
        "\n",
        "#plot of cells in FOV1 cyto vs time\n",
        "for cell_number in range(0,10):\n",
        "  #df_data[\"Wanted Cell Number\"]=df_cell_number.str.contains('cell_number')\n",
        "  #df_data_plot=df_data.loc[df_data['Wanted Cell Number'] == True]\n",
        "  df_data_plot=df_data.loc[df_data['Cell Number'] == cell_number]\n",
        "  df_cell_area=df_data_plot['Cell_Area']\n",
        "  df_time=df_data_plot['Time']\n",
        "  df_nuc_intensity_0=df_data_plot['Nuc_Intensity_0']\n",
        "  df_cyto_intensity_1=df_data_plot['Cyto_Intensity_1'] #correlates to protein concentration\n",
        "  c = next(color)\n",
        "  plt.scatter(df_time,df_cyto_intensity_1,c=c,label=\"Cell \" +str(cell_number+1))\n",
        "  plt.title(\"Time vs Cyto Intensity (Channel 1)\")\n",
        "  plt.xlabel(\"Time\")\n",
        "  plt.ylabel(\"Cyto Intensity\")\n",
        "  plt.legend(loc='upper right')"
      ],
      "metadata": {
        "id": "XzOQSjngyHyn",
        "colab": {
          "base_uri": "https://localhost:8080/",
          "height": 529
        },
        "outputId": "fda567eb-6a70-46c7-bdf5-f67402015479"
      },
      "execution_count": null,
      "outputs": [
        {
          "output_type": "stream",
          "name": "stderr",
          "text": [
            "<ipython-input-11-c3c5ea77f3c6>:23: UserWarning: *c* argument looks like a single numeric RGB or RGBA sequence, which should be avoided as value-mapping will have precedence in case its length matches with *x* & *y*.  Please use the *color* keyword-argument or provide a 2D array with a single row if you intend to specify the same RGB or RGBA value for all points.\n",
            "  plt.scatter(df_time,df_cyto_intensity_1,c=c,label=\"Cell \" +str(cell_number+1))\n"
          ]
        },
        {
          "output_type": "display_data",
          "data": {
            "text/plain": [
              "<Figure size 640x480 with 1 Axes>"
            ],
            "image/png": "[encoded data removed]"
          },
          "metadata": {}
        }
      ]
    },
    {
      "cell_type": "code",
      "source": [
        "def avg_intensity_plot(drug_list,name_list):\n",
        "  for drug_count in range(0,len(drug_list)):\n",
        "    df_data = drug_list[drug_count]\n",
        "    df_data=df_data.rename(columns={\"Unnamed: 0\":\"Cell Number\"})\n",
        "    columns_List=df_data.columns.values\n",
        "    df_data_plot=[]\n",
        "\n",
        "    for cell_index in range(0,len(df_data[\"Cell_Id\"])):\n",
        "      string=df_data[\"Cell_Id\"][cell_index] #for i in range (0,len(cell_Id)), can run through all Id's to check if they have the \n",
        "      string=string[8:]\n",
        "      df_data_plot.append(df_data.loc[df_data['Cell_Id'].str.contains(string)])\n",
        "    df_data_plot = pd.concat(df_data_plot)\n",
        "    df_data_plot=df_data_plot.drop_duplicates()\n",
        "    df_data_plot=df_data_plot.reset_index()\n",
        "\n",
        "    #remove take only middle string from cell_id aka FOVN\n",
        "    for cell_index in range(0,len(df_data[\"Cell_Id\"])):\n",
        "      string=df_data_plot[\"Cell_Id\"][cell_index]\n",
        "      if len(string)<14:\n",
        "        df_data_plot[\"Cell_Id\"][cell_index]=string[5:-4]\n",
        "      else:\n",
        "        df_data_plot[\"Cell_Id\"][cell_index]=string[5:-5]\n",
        "\n",
        "    grouped_df=df_data_plot.groupby([\"Cell_Id\",\"Time\"])\n",
        "    cell_id=[\"FOV1\",\"FOV2\",\"FOV3\",\"FOV4\",\"FOV5\",\"FOV6\",\"FOV7\",\"FOV8\",]\n",
        "    numbers = [float(x) for x in range(1, 27)]\n",
        "    time=numbers\n",
        "    color = [\"red\",\"orange\",\"yellow\",\"green\",\"cyan\",\"blue\",\"purple\",\"black\"]\n",
        "    marker_shapes=['o','^',\"*\",\"p\"]\n",
        "\n",
        "    for j in range(0,len(cell_id)):\n",
        "      for i in range(0,len(time)):\n",
        "        FOV=cell_id[j]\n",
        "        hour=time[i]\n",
        "        avg_cyto=(grouped_df.get_group((FOV,hour)))\n",
        "        cyto_group=grouped_df.get_group((FOV,hour))\n",
        "        avg_cyto_value=np.mean(cyto_group[\"Cyto_Intensity_1\"])\n",
        "        #print(\"For \"+ str(FOV)+\", the average intensity is \" +str(avg_cyto_value)+\"the time is \" +str(hour))\n",
        "        plot=plt.scatter(hour,avg_cyto_value,c=color[j],label=FOV,marker_style=marker_shapes[drug_count])\n",
        "        #label=\"_nolegend_\"\n",
        "        plt.set_xlabel(\"Time\")\n",
        "        plt.set_ylabel(\"Cyto Intensity\")\n",
        "        handles, labels = plt.gca().get_legend_handles_labels()\n",
        "        by_label = dict(zip(labels, handles)) \n",
        "        plt.legend(by_label.values(), by_label.keys(),loc=\"upper right\")\n",
        "        plt.set_title(\"Average Intensity of All Cells for Each FOV versus Time for \"+name_list[drug_count])\n",
        "  return plot"
      ],
      "metadata": {
        "id": "FA9jsI3BtpZT"
      },
      "execution_count": null,
      "outputs": []
    },
    {
      "cell_type": "code",
      "source": [
        "y_wt = range(0,wt_diff.shape[0])\n",
        "y_d1 = range(0,d1_diff.shape[0])\n",
        "y_d5 = range(0,d5_diff.shape[0])\n",
        "y_d7 = range(0,d7_diff.shape[0])\n",
        "fig, ax = plt.subplots(2,2)\n",
        "ax[0,0].scatter(y_wt, wt_diff)\n",
        "ax[0,0].set_title('WT Diff in F-I Intensity')\n",
        "\n",
        "ax[1,0].scatter(y_d1, d1_diff)\n",
        "ax[1,0].set_title('D1 Diff in F-I Intensity')\n",
        "\n",
        "ax[0,1].scatter(y_d5, d5_diff)\n",
        "ax[0,1].set_title('D5 Diff in F-I Intensity')\n",
        "\n",
        "ax[1,1].scatter(y_d7, d7_diff)\n",
        "ax[1,1].set_title('D7 Diff in F-I Intensity')"
      ],
      "metadata": {
        "colab": {
          "base_uri": "https://localhost:8080/",
          "height": 768
        },
        "id": "V2cUDNKanYW3",
        "outputId": "95c03772-430f-4594-bd91-1e5476bed3e7"
      },
      "execution_count": null,
      "outputs": [
        {
          "output_type": "error",
          "ename": "AttributeError",
          "evalue": "ignored",
          "traceback": [
            "\u001b[0;31m---------------------------------------------------------------------------\u001b[0m",
            "\u001b[0;31mAttributeError\u001b[0m                            Traceback (most recent call last)",
            "\u001b[0;32m<ipython-input-50-f2d5325bf9be>\u001b[0m in \u001b[0;36m<cell line: 3>\u001b[0;34m()\u001b[0m\n\u001b[1;32m      1\u001b[0m \u001b[0mdrug_list\u001b[0m\u001b[0;34m=\u001b[0m\u001b[0;34m[\u001b[0m\u001b[0mWT\u001b[0m\u001b[0;34m,\u001b[0m\u001b[0mD1\u001b[0m\u001b[0;34m,\u001b[0m\u001b[0mD5\u001b[0m\u001b[0;34m,\u001b[0m\u001b[0mD7\u001b[0m\u001b[0;34m]\u001b[0m\u001b[0;34m\u001b[0m\u001b[0;34m\u001b[0m\u001b[0m\n\u001b[1;32m      2\u001b[0m \u001b[0mname_list\u001b[0m\u001b[0;34m=\u001b[0m\u001b[0;34m[\u001b[0m\u001b[0;34m\"WT\"\u001b[0m\u001b[0;34m,\u001b[0m\u001b[0;34m\"Drug 1\"\u001b[0m\u001b[0;34m,\u001b[0m\u001b[0;34m\"Drug 5\"\u001b[0m\u001b[0;34m,\u001b[0m\u001b[0;34m\"Drug 7\"\u001b[0m\u001b[0;34m]\u001b[0m\u001b[0;34m\u001b[0m\u001b[0;34m\u001b[0m\u001b[0m\n\u001b[0;32m----> 3\u001b[0;31m \u001b[0mavg_intensity_plot\u001b[0m\u001b[0;34m(\u001b[0m\u001b[0mdrug_list\u001b[0m\u001b[0;34m,\u001b[0m\u001b[0mname_list\u001b[0m\u001b[0;34m)\u001b[0m\u001b[0;34m\u001b[0m\u001b[0;34m\u001b[0m\u001b[0m\n\u001b[0m",
            "\u001b[0;32m<ipython-input-49-559bca9e86f5>\u001b[0m in \u001b[0;36mavg_intensity_plot\u001b[0;34m(drug_list, name_list)\u001b[0m\n\u001b[1;32m     37\u001b[0m         \u001b[0mavg_cyto_value\u001b[0m\u001b[0;34m=\u001b[0m\u001b[0mnp\u001b[0m\u001b[0;34m.\u001b[0m\u001b[0mmean\u001b[0m\u001b[0;34m(\u001b[0m\u001b[0mcyto_group\u001b[0m\u001b[0;34m[\u001b[0m\u001b[0;34m\"Cyto_Intensity_1\"\u001b[0m\u001b[0;34m]\u001b[0m\u001b[0;34m)\u001b[0m\u001b[0;34m\u001b[0m\u001b[0;34m\u001b[0m\u001b[0m\n\u001b[1;32m     38\u001b[0m         \u001b[0;31m#print(\"For \"+ str(FOV)+\", the average intensity is \" +str(avg_cyto_value)+\"the time is \" +str(hour))\u001b[0m\u001b[0;34m\u001b[0m\u001b[0;34m\u001b[0m\u001b[0m\n\u001b[0;32m---> 39\u001b[0;31m         \u001b[0mplot\u001b[0m\u001b[0;34m=\u001b[0m\u001b[0mplt\u001b[0m\u001b[0;34m.\u001b[0m\u001b[0mscatter\u001b[0m\u001b[0;34m(\u001b[0m\u001b[0mhour\u001b[0m\u001b[0;34m,\u001b[0m\u001b[0mavg_cyto_value\u001b[0m\u001b[0;34m,\u001b[0m\u001b[0mc\u001b[0m\u001b[0;34m=\u001b[0m\u001b[0mcolor\u001b[0m\u001b[0;34m[\u001b[0m\u001b[0mj\u001b[0m\u001b[0;34m]\u001b[0m\u001b[0;34m,\u001b[0m\u001b[0mlabel\u001b[0m\u001b[0;34m=\u001b[0m\u001b[0mFOV\u001b[0m\u001b[0;34m,\u001b[0m\u001b[0mmarker_style\u001b[0m\u001b[0;34m=\u001b[0m\u001b[0mmarker_shapes\u001b[0m\u001b[0;34m[\u001b[0m\u001b[0mdrug_count\u001b[0m\u001b[0;34m]\u001b[0m\u001b[0;34m)\u001b[0m\u001b[0;34m\u001b[0m\u001b[0;34m\u001b[0m\u001b[0m\n\u001b[0m\u001b[1;32m     40\u001b[0m         \u001b[0;31m#label=\"_nolegend_\"\u001b[0m\u001b[0;34m\u001b[0m\u001b[0;34m\u001b[0m\u001b[0m\n\u001b[1;32m     41\u001b[0m         \u001b[0mplt\u001b[0m\u001b[0;34m.\u001b[0m\u001b[0mset_xlabel\u001b[0m\u001b[0;34m(\u001b[0m\u001b[0;34m\"Time\"\u001b[0m\u001b[0;34m)\u001b[0m\u001b[0;34m\u001b[0m\u001b[0;34m\u001b[0m\u001b[0m\n",
            "\u001b[0;32m/usr/local/lib/python3.10/dist-packages/matplotlib/pyplot.py\u001b[0m in \u001b[0;36mscatter\u001b[0;34m(x, y, s, c, marker, cmap, norm, vmin, vmax, alpha, linewidths, edgecolors, plotnonfinite, data, **kwargs)\u001b[0m\n\u001b[1;32m   2860\u001b[0m         \u001b[0mvmin\u001b[0m\u001b[0;34m=\u001b[0m\u001b[0;32mNone\u001b[0m\u001b[0;34m,\u001b[0m \u001b[0mvmax\u001b[0m\u001b[0;34m=\u001b[0m\u001b[0;32mNone\u001b[0m\u001b[0;34m,\u001b[0m \u001b[0malpha\u001b[0m\u001b[0;34m=\u001b[0m\u001b[0;32mNone\u001b[0m\u001b[0;34m,\u001b[0m \u001b[0mlinewidths\u001b[0m\u001b[0;34m=\u001b[0m\u001b[0;32mNone\u001b[0m\u001b[0;34m,\u001b[0m \u001b[0;34m*\u001b[0m\u001b[0;34m,\u001b[0m\u001b[0;34m\u001b[0m\u001b[0;34m\u001b[0m\u001b[0m\n\u001b[1;32m   2861\u001b[0m         edgecolors=None, plotnonfinite=False, data=None, **kwargs):\n\u001b[0;32m-> 2862\u001b[0;31m     __ret = gca().scatter(\n\u001b[0m\u001b[1;32m   2863\u001b[0m         \u001b[0mx\u001b[0m\u001b[0;34m,\u001b[0m \u001b[0my\u001b[0m\u001b[0;34m,\u001b[0m \u001b[0ms\u001b[0m\u001b[0;34m=\u001b[0m\u001b[0ms\u001b[0m\u001b[0;34m,\u001b[0m \u001b[0mc\u001b[0m\u001b[0;34m=\u001b[0m\u001b[0mc\u001b[0m\u001b[0;34m,\u001b[0m \u001b[0mmarker\u001b[0m\u001b[0;34m=\u001b[0m\u001b[0mmarker\u001b[0m\u001b[0;34m,\u001b[0m \u001b[0mcmap\u001b[0m\u001b[0;34m=\u001b[0m\u001b[0mcmap\u001b[0m\u001b[0;34m,\u001b[0m \u001b[0mnorm\u001b[0m\u001b[0;34m=\u001b[0m\u001b[0mnorm\u001b[0m\u001b[0;34m,\u001b[0m\u001b[0;34m\u001b[0m\u001b[0;34m\u001b[0m\u001b[0m\n\u001b[1;32m   2864\u001b[0m         \u001b[0mvmin\u001b[0m\u001b[0;34m=\u001b[0m\u001b[0mvmin\u001b[0m\u001b[0;34m,\u001b[0m \u001b[0mvmax\u001b[0m\u001b[0;34m=\u001b[0m\u001b[0mvmax\u001b[0m\u001b[0;34m,\u001b[0m \u001b[0malpha\u001b[0m\u001b[0;34m=\u001b[0m\u001b[0malpha\u001b[0m\u001b[0;34m,\u001b[0m \u001b[0mlinewidths\u001b[0m\u001b[0;34m=\u001b[0m\u001b[0mlinewidths\u001b[0m\u001b[0;34m,\u001b[0m\u001b[0;34m\u001b[0m\u001b[0;34m\u001b[0m\u001b[0m\n",
            "\u001b[0;32m/usr/local/lib/python3.10/dist-packages/matplotlib/__init__.py\u001b[0m in \u001b[0;36minner\u001b[0;34m(ax, data, *args, **kwargs)\u001b[0m\n\u001b[1;32m   1440\u001b[0m     \u001b[0;32mdef\u001b[0m \u001b[0minner\u001b[0m\u001b[0;34m(\u001b[0m\u001b[0max\u001b[0m\u001b[0;34m,\u001b[0m \u001b[0;34m*\u001b[0m\u001b[0margs\u001b[0m\u001b[0;34m,\u001b[0m \u001b[0mdata\u001b[0m\u001b[0;34m=\u001b[0m\u001b[0;32mNone\u001b[0m\u001b[0;34m,\u001b[0m \u001b[0;34m**\u001b[0m\u001b[0mkwargs\u001b[0m\u001b[0;34m)\u001b[0m\u001b[0;34m:\u001b[0m\u001b[0;34m\u001b[0m\u001b[0;34m\u001b[0m\u001b[0m\n\u001b[1;32m   1441\u001b[0m         \u001b[0;32mif\u001b[0m \u001b[0mdata\u001b[0m \u001b[0;32mis\u001b[0m \u001b[0;32mNone\u001b[0m\u001b[0;34m:\u001b[0m\u001b[0;34m\u001b[0m\u001b[0;34m\u001b[0m\u001b[0m\n\u001b[0;32m-> 1442\u001b[0;31m             \u001b[0;32mreturn\u001b[0m \u001b[0mfunc\u001b[0m\u001b[0;34m(\u001b[0m\u001b[0max\u001b[0m\u001b[0;34m,\u001b[0m \u001b[0;34m*\u001b[0m\u001b[0mmap\u001b[0m\u001b[0;34m(\u001b[0m\u001b[0msanitize_sequence\u001b[0m\u001b[0;34m,\u001b[0m \u001b[0margs\u001b[0m\u001b[0;34m)\u001b[0m\u001b[0;34m,\u001b[0m \u001b[0;34m**\u001b[0m\u001b[0mkwargs\u001b[0m\u001b[0;34m)\u001b[0m\u001b[0;34m\u001b[0m\u001b[0;34m\u001b[0m\u001b[0m\n\u001b[0m\u001b[1;32m   1443\u001b[0m \u001b[0;34m\u001b[0m\u001b[0m\n\u001b[1;32m   1444\u001b[0m         \u001b[0mbound\u001b[0m \u001b[0;34m=\u001b[0m \u001b[0mnew_sig\u001b[0m\u001b[0;34m.\u001b[0m\u001b[0mbind\u001b[0m\u001b[0;34m(\u001b[0m\u001b[0max\u001b[0m\u001b[0;34m,\u001b[0m \u001b[0;34m*\u001b[0m\u001b[0margs\u001b[0m\u001b[0;34m,\u001b[0m \u001b[0;34m**\u001b[0m\u001b[0mkwargs\u001b[0m\u001b[0;34m)\u001b[0m\u001b[0;34m\u001b[0m\u001b[0;34m\u001b[0m\u001b[0m\n",
            "\u001b[0;32m/usr/local/lib/python3.10/dist-packages/matplotlib/axes/_axes.py\u001b[0m in \u001b[0;36mscatter\u001b[0;34m(self, x, y, s, c, marker, cmap, norm, vmin, vmax, alpha, linewidths, edgecolors, plotnonfinite, **kwargs)\u001b[0m\n\u001b[1;32m   4696\u001b[0m                     \u001b[0;34m\"No data for colormapping provided via 'c'. \"\u001b[0m\u001b[0;34m\u001b[0m\u001b[0;34m\u001b[0m\u001b[0m\n\u001b[1;32m   4697\u001b[0m                     f\"Parameters {keys_str} will be ignored\")\n\u001b[0;32m-> 4698\u001b[0;31m         \u001b[0mcollection\u001b[0m\u001b[0;34m.\u001b[0m\u001b[0m_internal_update\u001b[0m\u001b[0;34m(\u001b[0m\u001b[0mkwargs\u001b[0m\u001b[0;34m)\u001b[0m\u001b[0;34m\u001b[0m\u001b[0;34m\u001b[0m\u001b[0m\n\u001b[0m\u001b[1;32m   4699\u001b[0m \u001b[0;34m\u001b[0m\u001b[0m\n\u001b[1;32m   4700\u001b[0m         \u001b[0;31m# Classic mode only:\u001b[0m\u001b[0;34m\u001b[0m\u001b[0;34m\u001b[0m\u001b[0m\n",
            "\u001b[0;32m/usr/local/lib/python3.10/dist-packages/matplotlib/artist.py\u001b[0m in \u001b[0;36m_internal_update\u001b[0;34m(self, kwargs)\u001b[0m\n\u001b[1;32m   1221\u001b[0m         \u001b[0mThe\u001b[0m \u001b[0mlack\u001b[0m \u001b[0mof\u001b[0m \u001b[0mprenormalization\u001b[0m \u001b[0;32mis\u001b[0m \u001b[0mto\u001b[0m \u001b[0mmaintain\u001b[0m \u001b[0mbackcompatibility\u001b[0m\u001b[0;34m.\u001b[0m\u001b[0;34m\u001b[0m\u001b[0;34m\u001b[0m\u001b[0m\n\u001b[1;32m   1222\u001b[0m         \"\"\"\n\u001b[0;32m-> 1223\u001b[0;31m         return self._update_props(\n\u001b[0m\u001b[1;32m   1224\u001b[0m             \u001b[0mkwargs\u001b[0m\u001b[0;34m,\u001b[0m \u001b[0;34m\"{cls.__name__}.set() got an unexpected keyword argument \"\u001b[0m\u001b[0;34m\u001b[0m\u001b[0;34m\u001b[0m\u001b[0m\n\u001b[1;32m   1225\u001b[0m             \"{prop_name!r}\")\n",
            "\u001b[0;32m/usr/local/lib/python3.10/dist-packages/matplotlib/artist.py\u001b[0m in \u001b[0;36m_update_props\u001b[0;34m(self, props, errfmt)\u001b[0m\n\u001b[1;32m   1195\u001b[0m                     \u001b[0mfunc\u001b[0m \u001b[0;34m=\u001b[0m \u001b[0mgetattr\u001b[0m\u001b[0;34m(\u001b[0m\u001b[0mself\u001b[0m\u001b[0;34m,\u001b[0m \u001b[0;34mf\"set_{k}\"\u001b[0m\u001b[0;34m,\u001b[0m \u001b[0;32mNone\u001b[0m\u001b[0;34m)\u001b[0m\u001b[0;34m\u001b[0m\u001b[0;34m\u001b[0m\u001b[0m\n\u001b[1;32m   1196\u001b[0m                     \u001b[0;32mif\u001b[0m \u001b[0;32mnot\u001b[0m \u001b[0mcallable\u001b[0m\u001b[0;34m(\u001b[0m\u001b[0mfunc\u001b[0m\u001b[0;34m)\u001b[0m\u001b[0;34m:\u001b[0m\u001b[0;34m\u001b[0m\u001b[0;34m\u001b[0m\u001b[0m\n\u001b[0;32m-> 1197\u001b[0;31m                         raise AttributeError(\n\u001b[0m\u001b[1;32m   1198\u001b[0m                             errfmt.format(cls=type(self), prop_name=k))\n\u001b[1;32m   1199\u001b[0m                     \u001b[0mret\u001b[0m\u001b[0;34m.\u001b[0m\u001b[0mappend\u001b[0m\u001b[0;34m(\u001b[0m\u001b[0mfunc\u001b[0m\u001b[0;34m(\u001b[0m\u001b[0mv\u001b[0m\u001b[0;34m)\u001b[0m\u001b[0;34m)\u001b[0m\u001b[0;34m\u001b[0m\u001b[0;34m\u001b[0m\u001b[0m\n",
            "\u001b[0;31mAttributeError\u001b[0m: PathCollection.set() got an unexpected keyword argument 'marker_style'"
          ]
        },
        {
          "output_type": "display_data",
          "data": {
            "text/plain": [
              "<Figure size 640x480 with 1 Axes>"
            ],
            "image/png": "[encoded data removed]"
          },
          "metadata": {}
        }
      ]
    },
    {
      "cell_type": "code",
      "source": [
        "#@title Find which features are significantly affected by your drug.\n",
        "# For each combination of drug  condition, compute the difference in\n",
        "# features and estimate the statistical significance of these differences.\n",
        "# Consider different approaches to calculate the significance and provide\n",
        "# an argument for why you chose the one you decided to choose.\n",
        "#@title  Download and open the CSV that contains the data \n",
        "# Create different objects for each of your different drug conditions.\n",
        "\n",
        "\n",
        "\n",
        "\n",
        "path = '/content/drive/My Drive/UQBioProcessedImageData/'\n",
        "\n",
        "dwt = pd.read_csv(path + 'WT_img_process_data.csv')\n",
        "d1 = pd.read_csv(path + 'Drug1_img_process_data.csv')\n",
        "d5 = pd.read_csv(path + 'Drug5_img_process_data.csv')\n",
        "d7 = pd.read_csv(path + 'Drug7_img_process_data.csv')\n",
        "\n",
        "\n",
        "def intensity_diff(d):\n",
        "  d_gr = d.groupby(['Cell_Id'])\n",
        "  intensity_diff = pd.DataFrame({'Cell_Id': d['Cell_Id'].unique(), 'Difference': np.zeros(len(d['Cell_Id'].unique()))})\n",
        "  for cell in intensity_diff['Cell_Id']:\n",
        "    intensity_start = int(d_gr.get_group(cell)[d_gr.get_group(cell)['Time'] == 1.0]['Nuc_Intensity_0'])\n",
        "    intensity_end = int(d_gr.get_group(cell)[d_gr.get_group(cell)['Time'] == 26.0]['Nuc_Intensity_0'])\n",
        "    intensity_diff.loc[cell, 'Difference'] = intensity_end - intensity_start\n",
        "  return intensity_diff['Difference']\n",
        "\n",
        "wt_diff = intensity_diff(dwt)\n",
        "d1_diff = intensity_diff(d1)\n",
        "d5_diff = intensity_diff(d5)\n",
        "d7_diff = intensity_diff(d7)\n",
        "\n",
        "print(\"WT mean difference: \", wt_diff.mean())\n",
        "print(\"\\nDrug1 mean difference: \", d1_diff.mean())\n",
        "t_stat, p_value = ttest_ind(intensity_diff(dwt), intensity_diff(d1))\n",
        "print(\"T-statistic value: \", t_stat)  \n",
        "print(\"P-Value: \", p_value)\n",
        "\n",
        "print(\"\\nDrug5 mean difference: \", d5_diff.mean())\n",
        "t_stat, p_value = ttest_ind(intensity_diff(dwt), intensity_diff(d5))\n",
        "print(\"T-statistic value: \", t_stat)  \n",
        "print(\"P-Value: \", p_value)\n",
        "\n",
        "print(\"\\nDrug7 mean difference: \", d7_diff.mean())\n",
        "t_stat, p_value = ttest_ind(intensity_diff(dwt), intensity_diff(d7))\n",
        "print(\"T-statistic value: \", t_stat)  \n",
        "print(\"P-Value: \", p_value)\n",
        "\n",
        "\n"
      ],
      "metadata": {
        "id": "yYsOEbiNyu0K",
        "colab": {
          "base_uri": "https://localhost:8080/",
          "height": 425
        },
        "outputId": "9bd00ab6-3dee-4686-e023-c518ad446019"
      },
      "execution_count": null,
      "outputs": [
        {
          "output_type": "error",
          "ename": "FileNotFoundError",
          "evalue": "ignored",
          "traceback": [
            "\u001b[0;31m---------------------------------------------------------------------------\u001b[0m",
            "\u001b[0;31mFileNotFoundError\u001b[0m                         Traceback (most recent call last)",
            "\u001b[0;32m<ipython-input-18-6e3de973a026>\u001b[0m in \u001b[0;36m<cell line: 14>\u001b[0;34m()\u001b[0m\n\u001b[1;32m     12\u001b[0m \u001b[0mpath\u001b[0m \u001b[0;34m=\u001b[0m \u001b[0;34m'/content/drive/My Drive/UQBioProcessedImageData/'\u001b[0m\u001b[0;34m\u001b[0m\u001b[0;34m\u001b[0m\u001b[0m\n\u001b[1;32m     13\u001b[0m \u001b[0;34m\u001b[0m\u001b[0m\n\u001b[0;32m---> 14\u001b[0;31m \u001b[0mdwt\u001b[0m \u001b[0;34m=\u001b[0m \u001b[0mpd\u001b[0m\u001b[0;34m.\u001b[0m\u001b[0mread_csv\u001b[0m\u001b[0;34m(\u001b[0m\u001b[0mpath\u001b[0m \u001b[0;34m+\u001b[0m \u001b[0;34m'WT_img_process_data.csv'\u001b[0m\u001b[0;34m)\u001b[0m\u001b[0;34m\u001b[0m\u001b[0;34m\u001b[0m\u001b[0m\n\u001b[0m\u001b[1;32m     15\u001b[0m \u001b[0md1\u001b[0m \u001b[0;34m=\u001b[0m \u001b[0mpd\u001b[0m\u001b[0;34m.\u001b[0m\u001b[0mread_csv\u001b[0m\u001b[0;34m(\u001b[0m\u001b[0mpath\u001b[0m \u001b[0;34m+\u001b[0m \u001b[0;34m'Drug1_img_process_data.csv'\u001b[0m\u001b[0;34m)\u001b[0m\u001b[0;34m\u001b[0m\u001b[0;34m\u001b[0m\u001b[0m\n\u001b[1;32m     16\u001b[0m \u001b[0md5\u001b[0m \u001b[0;34m=\u001b[0m \u001b[0mpd\u001b[0m\u001b[0;34m.\u001b[0m\u001b[0mread_csv\u001b[0m\u001b[0;34m(\u001b[0m\u001b[0mpath\u001b[0m \u001b[0;34m+\u001b[0m \u001b[0;34m'Drug5_img_process_data.csv'\u001b[0m\u001b[0;34m)\u001b[0m\u001b[0;34m\u001b[0m\u001b[0;34m\u001b[0m\u001b[0m\n",
            "\u001b[0;32m/usr/local/lib/python3.10/dist-packages/pandas/util/_decorators.py\u001b[0m in \u001b[0;36mwrapper\u001b[0;34m(*args, **kwargs)\u001b[0m\n\u001b[1;32m    209\u001b[0m                 \u001b[0;32melse\u001b[0m\u001b[0;34m:\u001b[0m\u001b[0;34m\u001b[0m\u001b[0;34m\u001b[0m\u001b[0m\n\u001b[1;32m    210\u001b[0m                     \u001b[0mkwargs\u001b[0m\u001b[0;34m[\u001b[0m\u001b[0mnew_arg_name\u001b[0m\u001b[0;34m]\u001b[0m \u001b[0;34m=\u001b[0m \u001b[0mnew_arg_value\u001b[0m\u001b[0;34m\u001b[0m\u001b[0;34m\u001b[0m\u001b[0m\n\u001b[0;32m--> 211\u001b[0;31m             \u001b[0;32mreturn\u001b[0m \u001b[0mfunc\u001b[0m\u001b[0;34m(\u001b[0m\u001b[0;34m*\u001b[0m\u001b[0margs\u001b[0m\u001b[0;34m,\u001b[0m \u001b[0;34m**\u001b[0m\u001b[0mkwargs\u001b[0m\u001b[0;34m)\u001b[0m\u001b[0;34m\u001b[0m\u001b[0;34m\u001b[0m\u001b[0m\n\u001b[0m\u001b[1;32m    212\u001b[0m \u001b[0;34m\u001b[0m\u001b[0m\n\u001b[1;32m    213\u001b[0m         \u001b[0;32mreturn\u001b[0m \u001b[0mcast\u001b[0m\u001b[0;34m(\u001b[0m\u001b[0mF\u001b[0m\u001b[0;34m,\u001b[0m \u001b[0mwrapper\u001b[0m\u001b[0;34m)\u001b[0m\u001b[0;34m\u001b[0m\u001b[0;34m\u001b[0m\u001b[0m\n",
            "\u001b[0;32m/usr/local/lib/python3.10/dist-packages/pandas/util/_decorators.py\u001b[0m in \u001b[0;36mwrapper\u001b[0;34m(*args, **kwargs)\u001b[0m\n\u001b[1;32m    329\u001b[0m                     \u001b[0mstacklevel\u001b[0m\u001b[0;34m=\u001b[0m\u001b[0mfind_stack_level\u001b[0m\u001b[0;34m(\u001b[0m\u001b[0;34m)\u001b[0m\u001b[0;34m,\u001b[0m\u001b[0;34m\u001b[0m\u001b[0;34m\u001b[0m\u001b[0m\n\u001b[1;32m    330\u001b[0m                 )\n\u001b[0;32m--> 331\u001b[0;31m             \u001b[0;32mreturn\u001b[0m \u001b[0mfunc\u001b[0m\u001b[0;34m(\u001b[0m\u001b[0;34m*\u001b[0m\u001b[0margs\u001b[0m\u001b[0;34m,\u001b[0m \u001b[0;34m**\u001b[0m\u001b[0mkwargs\u001b[0m\u001b[0;34m)\u001b[0m\u001b[0;34m\u001b[0m\u001b[0;34m\u001b[0m\u001b[0m\n\u001b[0m\u001b[1;32m    332\u001b[0m \u001b[0;34m\u001b[0m\u001b[0m\n\u001b[1;32m    333\u001b[0m         \u001b[0;31m# error: \"Callable[[VarArg(Any), KwArg(Any)], Any]\" has no\u001b[0m\u001b[0;34m\u001b[0m\u001b[0;34m\u001b[0m\u001b[0m\n",
            "\u001b[0;32m/usr/local/lib/python3.10/dist-packages/pandas/io/parsers/readers.py\u001b[0m in \u001b[0;36mread_csv\u001b[0;34m(filepath_or_buffer, sep, delimiter, header, names, index_col, usecols, squeeze, prefix, mangle_dupe_cols, dtype, engine, converters, true_values, false_values, skipinitialspace, skiprows, skipfooter, nrows, na_values, keep_default_na, na_filter, verbose, skip_blank_lines, parse_dates, infer_datetime_format, keep_date_col, date_parser, dayfirst, cache_dates, iterator, chunksize, compression, thousands, decimal, lineterminator, quotechar, quoting, doublequote, escapechar, comment, encoding, encoding_errors, dialect, error_bad_lines, warn_bad_lines, on_bad_lines, delim_whitespace, low_memory, memory_map, float_precision, storage_options)\u001b[0m\n\u001b[1;32m    948\u001b[0m     \u001b[0mkwds\u001b[0m\u001b[0;34m.\u001b[0m\u001b[0mupdate\u001b[0m\u001b[0;34m(\u001b[0m\u001b[0mkwds_defaults\u001b[0m\u001b[0;34m)\u001b[0m\u001b[0;34m\u001b[0m\u001b[0;34m\u001b[0m\u001b[0m\n\u001b[1;32m    949\u001b[0m \u001b[0;34m\u001b[0m\u001b[0m\n\u001b[0;32m--> 950\u001b[0;31m     \u001b[0;32mreturn\u001b[0m \u001b[0m_read\u001b[0m\u001b[0;34m(\u001b[0m\u001b[0mfilepath_or_buffer\u001b[0m\u001b[0;34m,\u001b[0m \u001b[0mkwds\u001b[0m\u001b[0;34m)\u001b[0m\u001b[0;34m\u001b[0m\u001b[0;34m\u001b[0m\u001b[0m\n\u001b[0m\u001b[1;32m    951\u001b[0m \u001b[0;34m\u001b[0m\u001b[0m\n\u001b[1;32m    952\u001b[0m \u001b[0;34m\u001b[0m\u001b[0m\n",
            "\u001b[0;32m/usr/local/lib/python3.10/dist-packages/pandas/io/parsers/readers.py\u001b[0m in \u001b[0;36m_read\u001b[0;34m(filepath_or_buffer, kwds)\u001b[0m\n\u001b[1;32m    603\u001b[0m \u001b[0;34m\u001b[0m\u001b[0m\n\u001b[1;32m    604\u001b[0m     \u001b[0;31m# Create the parser.\u001b[0m\u001b[0;34m\u001b[0m\u001b[0;34m\u001b[0m\u001b[0m\n\u001b[0;32m--> 605\u001b[0;31m     \u001b[0mparser\u001b[0m \u001b[0;34m=\u001b[0m \u001b[0mTextFileReader\u001b[0m\u001b[0;34m(\u001b[0m\u001b[0mfilepath_or_buffer\u001b[0m\u001b[0;34m,\u001b[0m \u001b[0;34m**\u001b[0m\u001b[0mkwds\u001b[0m\u001b[0;34m)\u001b[0m\u001b[0;34m\u001b[0m\u001b[0;34m\u001b[0m\u001b[0m\n\u001b[0m\u001b[1;32m    606\u001b[0m \u001b[0;34m\u001b[0m\u001b[0m\n\u001b[1;32m    607\u001b[0m     \u001b[0;32mif\u001b[0m \u001b[0mchunksize\u001b[0m \u001b[0;32mor\u001b[0m \u001b[0miterator\u001b[0m\u001b[0;34m:\u001b[0m\u001b[0;34m\u001b[0m\u001b[0;34m\u001b[0m\u001b[0m\n",
            "\u001b[0;32m/usr/local/lib/python3.10/dist-packages/pandas/io/parsers/readers.py\u001b[0m in \u001b[0;36m__init__\u001b[0;34m(self, f, engine, **kwds)\u001b[0m\n\u001b[1;32m   1440\u001b[0m \u001b[0;34m\u001b[0m\u001b[0m\n\u001b[1;32m   1441\u001b[0m         \u001b[0mself\u001b[0m\u001b[0;34m.\u001b[0m\u001b[0mhandles\u001b[0m\u001b[0;34m:\u001b[0m \u001b[0mIOHandles\u001b[0m \u001b[0;34m|\u001b[0m \u001b[0;32mNone\u001b[0m \u001b[0;34m=\u001b[0m \u001b[0;32mNone\u001b[0m\u001b[0;34m\u001b[0m\u001b[0;34m\u001b[0m\u001b[0m\n\u001b[0;32m-> 1442\u001b[0;31m         \u001b[0mself\u001b[0m\u001b[0;34m.\u001b[0m\u001b[0m_engine\u001b[0m \u001b[0;34m=\u001b[0m \u001b[0mself\u001b[0m\u001b[0;34m.\u001b[0m\u001b[0m_make_engine\u001b[0m\u001b[0;34m(\u001b[0m\u001b[0mf\u001b[0m\u001b[0;34m,\u001b[0m \u001b[0mself\u001b[0m\u001b[0;34m.\u001b[0m\u001b[0mengine\u001b[0m\u001b[0;34m)\u001b[0m\u001b[0;34m\u001b[0m\u001b[0;34m\u001b[0m\u001b[0m\n\u001b[0m\u001b[1;32m   1443\u001b[0m \u001b[0;34m\u001b[0m\u001b[0m\n\u001b[1;32m   1444\u001b[0m     \u001b[0;32mdef\u001b[0m \u001b[0mclose\u001b[0m\u001b[0;34m(\u001b[0m\u001b[0mself\u001b[0m\u001b[0;34m)\u001b[0m \u001b[0;34m->\u001b[0m \u001b[0;32mNone\u001b[0m\u001b[0;34m:\u001b[0m\u001b[0;34m\u001b[0m\u001b[0;34m\u001b[0m\u001b[0m\n",
            "\u001b[0;32m/usr/local/lib/python3.10/dist-packages/pandas/io/parsers/readers.py\u001b[0m in \u001b[0;36m_make_engine\u001b[0;34m(self, f, engine)\u001b[0m\n\u001b[1;32m   1733\u001b[0m                 \u001b[0;32mif\u001b[0m \u001b[0;34m\"b\"\u001b[0m \u001b[0;32mnot\u001b[0m \u001b[0;32min\u001b[0m \u001b[0mmode\u001b[0m\u001b[0;34m:\u001b[0m\u001b[0;34m\u001b[0m\u001b[0;34m\u001b[0m\u001b[0m\n\u001b[1;32m   1734\u001b[0m                     \u001b[0mmode\u001b[0m \u001b[0;34m+=\u001b[0m \u001b[0;34m\"b\"\u001b[0m\u001b[0;34m\u001b[0m\u001b[0;34m\u001b[0m\u001b[0m\n\u001b[0;32m-> 1735\u001b[0;31m             self.handles = get_handle(\n\u001b[0m\u001b[1;32m   1736\u001b[0m                 \u001b[0mf\u001b[0m\u001b[0;34m,\u001b[0m\u001b[0;34m\u001b[0m\u001b[0;34m\u001b[0m\u001b[0m\n\u001b[1;32m   1737\u001b[0m                 \u001b[0mmode\u001b[0m\u001b[0;34m,\u001b[0m\u001b[0;34m\u001b[0m\u001b[0;34m\u001b[0m\u001b[0m\n",
            "\u001b[0;32m/usr/local/lib/python3.10/dist-packages/pandas/io/common.py\u001b[0m in \u001b[0;36mget_handle\u001b[0;34m(path_or_buf, mode, encoding, compression, memory_map, is_text, errors, storage_options)\u001b[0m\n\u001b[1;32m    854\u001b[0m         \u001b[0;32mif\u001b[0m \u001b[0mioargs\u001b[0m\u001b[0;34m.\u001b[0m\u001b[0mencoding\u001b[0m \u001b[0;32mand\u001b[0m \u001b[0;34m\"b\"\u001b[0m \u001b[0;32mnot\u001b[0m \u001b[0;32min\u001b[0m \u001b[0mioargs\u001b[0m\u001b[0;34m.\u001b[0m\u001b[0mmode\u001b[0m\u001b[0;34m:\u001b[0m\u001b[0;34m\u001b[0m\u001b[0;34m\u001b[0m\u001b[0m\n\u001b[1;32m    855\u001b[0m             \u001b[0;31m# Encoding\u001b[0m\u001b[0;34m\u001b[0m\u001b[0;34m\u001b[0m\u001b[0m\n\u001b[0;32m--> 856\u001b[0;31m             handle = open(\n\u001b[0m\u001b[1;32m    857\u001b[0m                 \u001b[0mhandle\u001b[0m\u001b[0;34m,\u001b[0m\u001b[0;34m\u001b[0m\u001b[0;34m\u001b[0m\u001b[0m\n\u001b[1;32m    858\u001b[0m                 \u001b[0mioargs\u001b[0m\u001b[0;34m.\u001b[0m\u001b[0mmode\u001b[0m\u001b[0;34m,\u001b[0m\u001b[0;34m\u001b[0m\u001b[0;34m\u001b[0m\u001b[0m\n",
            "\u001b[0;31mFileNotFoundError\u001b[0m: [Errno 2] No such file or directory: '/content/drive/My Drive/UQBioProcessedImageData/WT_img_process_data.csv'"
          ]
        }
      ]
    },
    {
      "cell_type": "code",
      "source": [
        "class LongBoard:\n",
        "  def __init__(self, length, color, flex)\n",
        "    self.length = length\n",
        "    self.color = color\n",
        "    self.flex = flex\n",
        "\n",
        "  def RollDownHill(speed)\n",
        "    print(\"woo look at me rolling down a hill in my \" + length + \" meter, \" + self.color + \" longboard!\")\n",
        "\n",
        "length = 5\n",
        "color = 'blue'\n",
        "flex = False\n",
        "kyle = LongBoard(len, col, f)"
      ],
      "metadata": {
        "id": "M_IZcIFwiN3u"
      },
      "execution_count": null,
      "outputs": []
    },
    {
      "cell_type": "code",
      "source": [
        "#@title Rank your 3 drugs \n",
        "# Make a series of plots first to rank your drugs based on their\n",
        "# effects and then to select your favorite.  Make a presentation\n",
        "# of your results.\n"
      ],
      "metadata": {
        "id": "JLTEfb1l0egj"
      },
      "execution_count": null,
      "outputs": []
    },
    {
      "cell_type": "code",
      "source": [
        "#@title Now write a re-usable function to do prliminary drug selection.\n",
        "# This file should take as input the (1) a list of names of two or more CSV files \n",
        "#   corresponding to Drug0, Drug1, ... (2) a list of a specific comparisions that\n",
        "#   the user may wish to compute as strings(e.g., 'Mean_Vitality', \n",
        "#   'Mean_Effectiveness', etc...).\n",
        "# It should return two or more matrices (e.g., M_Vitality(I,J), \n",
        "#   M_Effectiveness(I,J), ...) of one-to-one comparisions for every drug pair. \n",
        "#   Each matrix should be carefully described in the documentation of your\n",
        "#   function.\n",
        "# It should also return two or more significance matrixes (e.g., P_Vitality(I,J),\n",
        "#   P_Effectiveness(I,J), etc...) that present the statistical significance of\n",
        "#   the presented comparisons.\n",
        "\n",
        "\n",
        "def chi2_vitality(df1, df2):\n",
        "\n",
        "  df1_sub = df1[[\"Cell_Id\", \"is_cell_vital\"]]\n",
        "  df2_sub = df2[[\"Cell_Id\", \"is_cell_vital\"]]\n",
        "\n",
        "  d1_vital = df1_sub.groupby(\"Cell_Id\").min()\n",
        "  d2_vital = df2_sub.groupby(\"Cell_Id\").min()\n",
        "\n",
        "  arr1 = [sum(d1_vital[\"is_cell_vital\"]), d1_vital.shape[0] - sum(d1_vital[\"is_cell_vital\"])]\n",
        "  arr2 = [sum(d2_vital[\"is_cell_vital\"]), d2_vital.shape[0] - sum(d2_vital[\"is_cell_vital\"])]\n",
        "\n",
        "  prop1 = sum(d1_vital[\"is_cell_vital\"])/d1_vital.shape[0]\n",
        "  prop2 = sum(d2_vital[\"is_cell_vital\"])/d2_vital.shape[0]\n",
        "\n",
        "  vitality_df = pd.DataFrame((arr1, arr2))\n",
        "\n",
        "  c, p, dof, expected = chi2_contingency(vitality_df)\n",
        "\n",
        "  diff = prop2 - prop1\n",
        "\n",
        "  return diff, p\n",
        "\n",
        "def comp_intensity(df1, df2):\n",
        "\n",
        "  diff1 = intensity_diff(df1)\n",
        "  diff2 = intensity_diff(df2)\n",
        "\n",
        "  t_stat, p_value = ttest_ind(diff1, diff2)\n",
        "\n",
        "  return np.mean(diff2) - np.mean(diff1), p_value\n",
        "\n",
        "\n",
        "def intensity_diff(d):\n",
        "  d_gr = d.groupby(['Cell_Id'])\n",
        "  intensity_diff = pd.DataFrame({'Cell_Id': d['Cell_Id'].unique(), 'Difference': np.zeros(len(d['Cell_Id'].unique()))})\n",
        "  for cell in intensity_diff['Cell_Id']:\n",
        "    intensity_start = int(d_gr.get_group(cell)[d_gr.get_group(cell)['Time'] == 1.0]['Cyto_Intensity_1'])\n",
        "    intensity_end = int(d_gr.get_group(cell)[d_gr.get_group(cell)['Time'] == 26.0]['Cyto_Intensity_1'])\n",
        "    intensity_diff.loc[cell, 'Difference'] = intensity_end - intensity_start\n",
        "  return intensity_diff['Difference']\n",
        "\n",
        "\n",
        "def main(files, comps):\n",
        "  m_vitality = [[0] * len(files) for _ in range(len(files))]\n",
        "  p_vitality = [[0] * len(files) for _ in range(len(files))]\n",
        "  m_cyto_intensity = [[0] * len(files) for _ in range(len(files))]\n",
        "  p_cyto_intensity = [[0] * len(files) for _ in range(len(files))]\n",
        "  for i in range(len(files)):\n",
        "    for j in range(len(files)):\n",
        "      if i != j and \"vitality\" in comps:\n",
        "        diff_vitality, sig_vitality = chi2_vitality(files[i], files[j])\n",
        "        m_vitality[i][j] = diff_vitality\n",
        "        p_vitality[i][j] = sig_vitality\n",
        "      if i != j and \"cyto_intensity\" in comps:\n",
        "        diff_cyto_intensity, sig_cyto_intensity = comp_intensity(files[i], files[j])\n",
        "        m_cyto_intensity[i][j] = diff_cyto_intensity\n",
        "        p_cyto_intensity[i][j] = sig_cyto_intensity\n",
        "\n",
        "  results = []\n",
        "\n",
        "  if \"vitality\" in comps:\n",
        "    results.append(m_vitality)\n",
        "    results.append(p_vitality)\n",
        "  if \"cyto_intensity\" in comps:\n",
        "    results.append(m_cyto_intensity)\n",
        "    results.append(p_cyto_intensity)\n",
        "  \n",
        "  return results\n",
        "\n",
        "\n"
      ],
      "metadata": {
        "id": "yRldEd312KYk"
      },
      "execution_count": null,
      "outputs": []
    },
    {
      "cell_type": "code",
      "source": [
        "datasets = [WT, D1, D5, D7]\n",
        "\n",
        "results = main(datasets, [\"vitality\", \"cyto_intensity\"])\n",
        "\n",
        "for i in results:\n",
        "  df = pd.DataFrame(i)\n",
        "  df.columns =['WT', 'D1', 'D5', 'D7']\n",
        "  print(df)\n"
      ],
      "metadata": {
        "id": "vCz7WiYIes5k",
        "colab": {
          "base_uri": "https://localhost:8080/"
        },
        "outputId": "7a221673-c1d9-4176-df6d-23e904edc07e"
      },
      "execution_count": null,
      "outputs": [
        {
          "output_type": "stream",
          "name": "stdout",
          "text": [
            "         WT        D1        D5        D7\n",
            "0  0.000000 -0.435558 -0.048580 -0.340769\n",
            "1  0.435558  0.000000  0.386978  0.094789\n",
            "2  0.048580 -0.386978  0.000000 -0.292189\n",
            "3  0.340769 -0.094789  0.292189  0.000000\n",
            "             WT            D1            D5            D7\n",
            "0  0.000000e+00  2.006117e-19  6.845437e-02  2.711645e-14\n",
            "1  2.006117e-19  0.000000e+00  4.095951e-14  1.015380e-01\n",
            "2  6.845437e-02  4.095951e-14  0.000000e+00  1.255136e-09\n",
            "3  2.711645e-14  1.015380e-01  1.255136e-09  0.000000e+00\n",
            "          WT         D1         D5         D7\n",
            "0   0.000000 -19.037188 -13.920501 -15.144875\n",
            "1  19.037188   0.000000   5.116687   3.892313\n",
            "2  13.920501  -5.116687   0.000000  -1.224374\n",
            "3  15.144875  -3.892313   1.224374   0.000000\n",
            "             WT            D1            D5            D7\n",
            "0  0.000000e+00  4.168928e-21  4.020824e-14  2.491808e-13\n",
            "1  4.168928e-21  0.000000e+00  7.099835e-03  6.317857e-02\n",
            "2  4.020824e-14  7.099835e-03  0.000000e+00  5.359708e-01\n",
            "3  2.491808e-13  6.317857e-02  5.359708e-01  0.000000e+00\n"
          ]
        }
      ]
    },
    {
      "cell_type": "code",
      "source": [
        "#@title (Optional) Combine with image processing notebook.\n",
        "# Write and document a python function that takes as inputs:\n",
        "#   (1) a list of folders that contain IMAGES for a particular drug treatment\n",
        "#   (2) a list of a specific comparisions that the user may wish to compute as \n",
        "#       strings(e.g., 'Mean_Vitality', 'Mean_Effectiveness', etc...).\n",
        "#   (3) a directory to which processed images and data will be stored after \n",
        "#       image analysis and statistical analysis\n",
        "# The function should save to the directory:\n",
        "#   (1) cell image masks with cells denoted by integers 1, 2, 3,...\n",
        "#   (2) cell nucleus masks with cells denoted by integers 1, 2, 3,...\n",
        "#   (3) a CSV file with the locations of all spots and the cell number of that spot\n",
        "#   (4) a CSV file with the locations and intensities of transcription sites\n",
        "#   (5) a CSV file with all information requested in Drug Design Stage 1\n",
        "#   (6) two or more matrices (e.g., M_Vitality(I,J), \n",
        "#       M_Effectiveness(I,J), ...) of one-to-one comparisions for every drug pair. \n",
        "#       Each matrix should be carefully described in the documentation of your\n",
        "#       function.\n",
        "#   (7) It should also return two or more significance matrixes (e.g., P_Vitality(I,J),\n",
        "#       P_Effectiveness(I,J), etc...) that present the statistical significance of\n",
        "#       the presented comparisons."
      ],
      "metadata": {
        "id": "AK9zYiXy6A0_"
      },
      "execution_count": null,
      "outputs": []
    }
  ]
}